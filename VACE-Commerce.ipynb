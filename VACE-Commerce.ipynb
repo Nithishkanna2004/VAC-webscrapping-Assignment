{
 "cells": [
  {
   "cell_type": "code",
   "execution_count": 12,
   "id": "d9c10ece",
   "metadata": {},
   "outputs": [],
   "source": [
    "from bs4 import BeautifulSoup"
   ]
  },
  {
   "cell_type": "code",
   "execution_count": 13,
   "id": "91365f3e",
   "metadata": {},
   "outputs": [],
   "source": [
    "import requests"
   ]
  },
  {
   "cell_type": "code",
   "execution_count": 14,
   "id": "59b29c15",
   "metadata": {},
   "outputs": [],
   "source": [
    "url = \"https://www.flipkart.com/ckf/czl/~cs-1zk8p4dgbr/pr?sid=ckf%2Cczl&collection-tab-name=Large+Screen+TVs-DT&ctx=eyJjYXJkQ29udGV4dCI6eyJhdHRyaWJ1dGVzIjp7InRpdGxlIjp7Im11bHRpVmFsdWVkQXR0cmlidXRlIjp7ImtleSI6InRpdGxlIiwiaW5mZXJlbmNlVHlwZSI6IlRJVExFIiwidmFsdWVzIjpbIkxhcmdlIFNjcmVlbiBUVnMiXSwidmFsdWVUeXBlIjoiTVVMVElfVkFMVUVEIn19fX19&wid=7.productCard.PMU_V2_3\""
   ]
  },
  {
   "cell_type": "code",
   "execution_count": 15,
   "id": "23b15b27",
   "metadata": {},
   "outputs": [],
   "source": [
    "allow = requests.get(url)"
   ]
  },
  {
   "cell_type": "code",
   "execution_count": 16,
   "id": "7d99d556",
   "metadata": {},
   "outputs": [
    {
     "name": "stdout",
     "output_type": "stream",
     "text": [
      "<Response [200]>\n"
     ]
    }
   ],
   "source": [
    "print(allow)"
   ]
  },
  {
   "cell_type": "code",
   "execution_count": 17,
   "id": "99e1b858",
   "metadata": {},
   "outputs": [],
   "source": [
    "soup = BeautifulSoup(allow.text)"
   ]
  },
  {
   "cell_type": "code",
   "execution_count": 18,
   "id": "9f6b1ee1",
   "metadata": {},
   "outputs": [],
   "source": [
    "product_name = soup.select(\"._4rR01T\")"
   ]
  },
  {
   "cell_type": "code",
   "execution_count": 19,
   "id": "eda75d92",
   "metadata": {},
   "outputs": [
    {
     "data": {
      "text/plain": [
       "[<div class=\"_4rR01T\">OnePlus U1S 164 cm (65 inch) Ultra HD (4K) LED Smart Android TV</div>,\n",
       " <div class=\"_4rR01T\">iFFALCON 164 cm (65 inch) Ultra HD (4K) LED Smart Android TV</div>,\n",
       " <div class=\"_4rR01T\">Vu Premium 164 cm (65 inch) Ultra HD (4K) LED Smart Android TV</div>,\n",
       " <div class=\"_4rR01T\">MOTOROLA Revou 164 cm (65 inch) Ultra HD (4K) LED Smart Android TV with Dolby Atmos and Dolby Vision</div>,\n",
       " <div class=\"_4rR01T\">NOKIA 165 cm (65 inch) Ultra HD 4K LED Smart Android TV with Sound by Onkyo and Dolby Atmos</div>,\n",
       " <div class=\"_4rR01T\">Thomson OATHPRO Series 164 cm (65 inch) Ultra HD (4K) LED Smart Android TV with Dolby Digital Plus &amp; D...</div>,\n",
       " <div class=\"_4rR01T\">SAMSUNG Crystal 4K 163 cm (65 inch) Ultra HD (4K) LED Smart TV</div>,\n",
       " <div class=\"_4rR01T\">KODAK CA Series 164 cm (65 inch) Ultra HD (4K) LED Smart Android TV with Dolby Digital Plus &amp; DTS TruS...</div>,\n",
       " <div class=\"_4rR01T\">PHILIPS 6600 Series 146 cm (58 inch) Ultra HD (4K) LED Smart TV</div>,\n",
       " <div class=\"_4rR01T\">PHILIPS 7600 Series 146 cm (58 inch) Ultra HD (4K) LED Smart TV</div>,\n",
       " <div class=\"_4rR01T\">Blaupunkt Cyber Sound 164 cm (65 inch) Ultra HD (4K) LED Smart Android TV with Dolby MS12 &amp; 60W Speake...</div>,\n",
       " <div class=\"_4rR01T\">SAMSUNG Crystal 4K Pro 163 cm (65 inch) Ultra HD (4K) LED Smart TV with Voice Search</div>,\n",
       " <div class=\"_4rR01T\">LG Nanocell 189 cm (75 inch) Ultra HD (4K) LED Smart TV</div>,\n",
       " <div class=\"_4rR01T\">MarQ by Flipkart 165 cm (65) Ultra HD (4K) LED Smart Android TV</div>,\n",
       " <div class=\"_4rR01T\">SAMSUNG Series 7 189 cm (75 inch) Ultra HD (4K) LED Smart TV</div>,\n",
       " <div class=\"_4rR01T\">TCL 165 cm (65 inch) Ultra HD (4K) LED Smart Android TV</div>,\n",
       " <div class=\"_4rR01T\">SAMSUNG Series 8 163 cm (65 inch) Ultra HD (4K) LED Smart TV</div>,\n",
       " <div class=\"_4rR01T\">SAMSUNG Series 8 189 cm (75 inch) Ultra HD (4K) LED Smart TV</div>,\n",
       " <div class=\"_4rR01T\">SAMSUNG Series 7 163 cm (65 inch) Ultra HD (4K) LED Smart TV</div>,\n",
       " <div class=\"_4rR01T\">LG 164 cm (65 inch) Ultra HD (4K) LED Smart TV</div>,\n",
       " <div class=\"_4rR01T\">SAMSUNG Series 6 163 cm (65 inch) Ultra HD (4K) LED Smart TV</div>,\n",
       " <div class=\"_4rR01T\">LG Nanocell 164 cm (65 inch) Ultra HD (4K) LED Smart TV</div>,\n",
       " <div class=\"_4rR01T\">LG 164 cm (65 inch) Ultra HD (4K) LED Smart TV</div>,\n",
       " <div class=\"_4rR01T\">TCL P715 164 cm (65 Inch) Ultra HD (4K) LED Smart Android TV with Full Screen &amp; Handsfree Voice Contro...</div>]"
      ]
     },
     "execution_count": 19,
     "metadata": {},
     "output_type": "execute_result"
    }
   ],
   "source": [
    "product_name"
   ]
  },
  {
   "cell_type": "code",
   "execution_count": 20,
   "id": "4ef7d202",
   "metadata": {},
   "outputs": [],
   "source": [
    "product_link=[]\n",
    "product_title=[]"
   ]
  },
  {
   "cell_type": "code",
   "execution_count": 21,
   "id": "2a1b1e9f",
   "metadata": {
    "scrolled": true
   },
   "outputs": [],
   "source": [
    "for item in product_name:\n",
    "    product_title.append(item.text)\n",
    "    link = \"https://www.flipkart.com\"\n",
    "    product_link.append(link)"
   ]
  },
  {
   "cell_type": "code",
   "execution_count": 23,
   "id": "85e256f5",
   "metadata": {},
   "outputs": [
    {
     "data": {
      "text/plain": [
       "['OnePlus U1S 164 cm (65 inch) Ultra HD (4K) LED Smart Android TV',\n",
       " 'iFFALCON 164 cm (65 inch) Ultra HD (4K) LED Smart Android TV',\n",
       " 'Vu Premium 164 cm (65 inch) Ultra HD (4K) LED Smart Android TV',\n",
       " 'MOTOROLA Revou 164 cm (65 inch) Ultra HD (4K) LED Smart Android TV with Dolby Atmos and Dolby Vision',\n",
       " 'NOKIA 165 cm (65 inch) Ultra HD 4K LED Smart Android TV with Sound by Onkyo and Dolby Atmos',\n",
       " 'Thomson OATHPRO Series 164 cm (65 inch) Ultra HD (4K) LED Smart Android TV with Dolby Digital Plus & D...',\n",
       " 'SAMSUNG Crystal 4K 163 cm (65 inch) Ultra HD (4K) LED Smart TV',\n",
       " 'KODAK CA Series 164 cm (65 inch) Ultra HD (4K) LED Smart Android TV with Dolby Digital Plus & DTS TruS...',\n",
       " 'PHILIPS 6600 Series 146 cm (58 inch) Ultra HD (4K) LED Smart TV',\n",
       " 'PHILIPS 7600 Series 146 cm (58 inch) Ultra HD (4K) LED Smart TV',\n",
       " 'Blaupunkt Cyber Sound 164 cm (65 inch) Ultra HD (4K) LED Smart Android TV with Dolby MS12 & 60W Speake...',\n",
       " 'SAMSUNG Crystal 4K Pro 163 cm (65 inch) Ultra HD (4K) LED Smart TV with Voice Search',\n",
       " 'LG Nanocell 189 cm (75 inch) Ultra HD (4K) LED Smart TV',\n",
       " 'MarQ by Flipkart 165 cm (65) Ultra HD (4K) LED Smart Android TV',\n",
       " 'SAMSUNG Series 7 189 cm (75 inch) Ultra HD (4K) LED Smart TV',\n",
       " 'TCL 165 cm (65 inch) Ultra HD (4K) LED Smart Android TV',\n",
       " 'SAMSUNG Series 8 163 cm (65 inch) Ultra HD (4K) LED Smart TV',\n",
       " 'SAMSUNG Series 8 189 cm (75 inch) Ultra HD (4K) LED Smart TV',\n",
       " 'SAMSUNG Series 7 163 cm (65 inch) Ultra HD (4K) LED Smart TV',\n",
       " 'LG 164 cm (65 inch) Ultra HD (4K) LED Smart TV',\n",
       " 'SAMSUNG Series 6 163 cm (65 inch) Ultra HD (4K) LED Smart TV',\n",
       " 'LG Nanocell 164 cm (65 inch) Ultra HD (4K) LED Smart TV',\n",
       " 'LG 164 cm (65 inch) Ultra HD (4K) LED Smart TV',\n",
       " 'TCL P715 164 cm (65 Inch) Ultra HD (4K) LED Smart Android TV with Full Screen & Handsfree Voice Contro...']"
      ]
     },
     "execution_count": 23,
     "metadata": {},
     "output_type": "execute_result"
    }
   ],
   "source": [
    "product_title"
   ]
  },
  {
   "cell_type": "code",
   "execution_count": 25,
   "id": "ca309fc7",
   "metadata": {},
   "outputs": [],
   "source": [
    "product_rate = soup.select(\"._1_WHN1\")"
   ]
  },
  {
   "cell_type": "code",
   "execution_count": 26,
   "id": "7e253c5e",
   "metadata": {},
   "outputs": [
    {
     "data": {
      "text/plain": [
       "[<div class=\"_30jeq3 _1_WHN1\">₹62,490</div>,\n",
       " <div class=\"_30jeq3 _1_WHN1\">₹49,990</div>,\n",
       " <div class=\"_30jeq3 _1_WHN1\">₹57,999</div>,\n",
       " <div class=\"_30jeq3 _1_WHN1\">₹59,999</div>,\n",
       " <div class=\"_30jeq3 _1_WHN1\">₹62,999</div>,\n",
       " <div class=\"_30jeq3 _1_WHN1\">₹53,999</div>,\n",
       " <div class=\"_30jeq3 _1_WHN1\">₹83,990</div>,\n",
       " <div class=\"_30jeq3 _1_WHN1\">₹54,999</div>,\n",
       " <div class=\"_30jeq3 _1_WHN1\">₹41,999</div>,\n",
       " <div class=\"_30jeq3 _1_WHN1\">₹43,999</div>,\n",
       " <div class=\"_30jeq3 _1_WHN1\">₹55,999</div>,\n",
       " <div class=\"_30jeq3 _1_WHN1\">₹87,990</div>,\n",
       " <div class=\"_30jeq3 _1_WHN1\">₹4,99,990</div>,\n",
       " <div class=\"_30jeq3 _1_WHN1\">₹64,999</div>,\n",
       " <div class=\"_30jeq3 _1_WHN1\">₹2,39,999</div>,\n",
       " <div class=\"_30jeq3 _1_WHN1\">₹89,999</div>,\n",
       " <div class=\"_30jeq3 _1_WHN1\">₹1,67,199</div>,\n",
       " <div class=\"_30jeq3 _1_WHN1\">₹5,99,900</div>,\n",
       " <div class=\"_30jeq3 _1_WHN1\">₹1,59,500</div>,\n",
       " <div class=\"_30jeq3 _1_WHN1\">₹1,74,999</div>,\n",
       " <div class=\"_30jeq3 _1_WHN1\">₹2,94,900</div>,\n",
       " <div class=\"_30jeq3 _1_WHN1\">₹1,64,999</div>,\n",
       " <div class=\"_30jeq3 _1_WHN1\">₹1,20,999</div>,\n",
       " <div class=\"_30jeq3 _1_WHN1\">₹69,990</div>]"
      ]
     },
     "execution_count": 26,
     "metadata": {},
     "output_type": "execute_result"
    }
   ],
   "source": [
    "product_rate"
   ]
  },
  {
   "cell_type": "code",
   "execution_count": 27,
   "id": "e0e651a7",
   "metadata": {},
   "outputs": [],
   "source": [
    "product_cost = []\n",
    "product_junk = []"
   ]
  },
  {
   "cell_type": "code",
   "execution_count": 28,
   "id": "5b283c38",
   "metadata": {},
   "outputs": [],
   "source": [
    "for item in product_rate:\n",
    "    product_cost.append(item.text)\n",
    "    junk = \"https://www.flipkart.com/ckf/czl/~cs-1zk8p4dgbr/pr?sid=ckf%2Cczl&collection-tab-name=Large+Screen+TVs-DT&ctx=eyJjYXJkQ29udGV4dCI6eyJhdHRyaWJ1dGVzIjp7InRpdGxlIjp7Im11bHRpVmFsdWVkQXR0cmlidXRlIjp7ImtleSI6InRpdGxlIiwiaW5mZXJlbmNlVHlwZSI6IlRJVExFIiwidmFsdWVzIjpbIkxhcmdlIFNjcmVlbiBUVnMiXSwidmFsdWVUeXBlIjoiTVVMVElfVkFMVUVEIn19fX19&wid=7.productCard.PMU_V2_3\"\n",
    "    product_junk.append(junk)"
   ]
  },
  {
   "cell_type": "code",
   "execution_count": 29,
   "id": "2fc5256c",
   "metadata": {},
   "outputs": [
    {
     "data": {
      "text/plain": [
       "['₹62,490',\n",
       " '₹49,990',\n",
       " '₹57,999',\n",
       " '₹59,999',\n",
       " '₹62,999',\n",
       " '₹53,999',\n",
       " '₹83,990',\n",
       " '₹54,999',\n",
       " '₹41,999',\n",
       " '₹43,999',\n",
       " '₹55,999',\n",
       " '₹87,990',\n",
       " '₹4,99,990',\n",
       " '₹64,999',\n",
       " '₹2,39,999',\n",
       " '₹89,999',\n",
       " '₹1,67,199',\n",
       " '₹5,99,900',\n",
       " '₹1,59,500',\n",
       " '₹1,74,999',\n",
       " '₹2,94,900',\n",
       " '₹1,64,999',\n",
       " '₹1,20,999',\n",
       " '₹69,990']"
      ]
     },
     "execution_count": 29,
     "metadata": {},
     "output_type": "execute_result"
    }
   ],
   "source": [
    "product_cost"
   ]
  },
  {
   "cell_type": "code",
   "execution_count": 30,
   "id": "49a4fbd8",
   "metadata": {},
   "outputs": [],
   "source": [
    "import pandas as pd"
   ]
  },
  {
   "cell_type": "code",
   "execution_count": 31,
   "id": "183afbcf",
   "metadata": {},
   "outputs": [],
   "source": [
    "product = pd.DataFrame(product_name,columns=[\"product_name\"])"
   ]
  },
  {
   "cell_type": "code",
   "execution_count": 32,
   "id": "a75030a7",
   "metadata": {},
   "outputs": [],
   "source": [
    "product[\"cost\"] = product_cost"
   ]
  },
  {
   "cell_type": "code",
   "execution_count": 22,
   "id": "48d09d10",
   "metadata": {},
   "outputs": [
    {
     "data": {
      "text/html": [
       "<div>\n",
       "<style scoped>\n",
       "    .dataframe tbody tr th:only-of-type {\n",
       "        vertical-align: middle;\n",
       "    }\n",
       "\n",
       "    .dataframe tbody tr th {\n",
       "        vertical-align: top;\n",
       "    }\n",
       "\n",
       "    .dataframe thead th {\n",
       "        text-align: right;\n",
       "    }\n",
       "</style>\n",
       "<table border=\"1\" class=\"dataframe\">\n",
       "  <thead>\n",
       "    <tr style=\"text-align: right;\">\n",
       "      <th></th>\n",
       "      <th>product_name</th>\n",
       "      <th>cost</th>\n",
       "    </tr>\n",
       "  </thead>\n",
       "  <tbody>\n",
       "    <tr>\n",
       "      <th>0</th>\n",
       "      <td>OnePlus U1S 164 cm (65 inch) Ultra HD (4K) LED...</td>\n",
       "      <td>₹62,490</td>\n",
       "    </tr>\n",
       "    <tr>\n",
       "      <th>1</th>\n",
       "      <td>iFFALCON 164 cm (65 inch) Ultra HD (4K) LED Sm...</td>\n",
       "      <td>₹49,990</td>\n",
       "    </tr>\n",
       "    <tr>\n",
       "      <th>2</th>\n",
       "      <td>NOKIA 165 cm (65 inch) Ultra HD 4K LED Smart A...</td>\n",
       "      <td>₹56,999</td>\n",
       "    </tr>\n",
       "    <tr>\n",
       "      <th>3</th>\n",
       "      <td>MOTOROLA Revou 164 cm (65 inch) Ultra HD (4K) ...</td>\n",
       "      <td>₹52,999</td>\n",
       "    </tr>\n",
       "    <tr>\n",
       "      <th>4</th>\n",
       "      <td>Thomson OATHPRO Series 164 cm (65 inch) Ultra ...</td>\n",
       "      <td>₹52,999</td>\n",
       "    </tr>\n",
       "    <tr>\n",
       "      <th>5</th>\n",
       "      <td>SAMSUNG Crystal 4K 163 cm (65 inch) Ultra HD (...</td>\n",
       "      <td>₹83,990</td>\n",
       "    </tr>\n",
       "    <tr>\n",
       "      <th>6</th>\n",
       "      <td>PHILIPS 6600 Series 146 cm (58 inch) Ultra HD ...</td>\n",
       "      <td>₹41,999</td>\n",
       "    </tr>\n",
       "    <tr>\n",
       "      <th>7</th>\n",
       "      <td>KODAK CA Series 164 cm (65 inch) Ultra HD (4K)...</td>\n",
       "      <td>₹54,999</td>\n",
       "    </tr>\n",
       "    <tr>\n",
       "      <th>8</th>\n",
       "      <td>acer XL Series 177.8 cm (70 inch) Ultra HD (4K...</td>\n",
       "      <td>₹69,999</td>\n",
       "    </tr>\n",
       "    <tr>\n",
       "      <th>9</th>\n",
       "      <td>Blaupunkt Cyber Sound 164 cm (65 inch) Ultra H...</td>\n",
       "      <td>₹54,999</td>\n",
       "    </tr>\n",
       "    <tr>\n",
       "      <th>10</th>\n",
       "      <td>Vu Cinema TV Action Series 164 cm (65 inch) Ul...</td>\n",
       "      <td>₹59,999</td>\n",
       "    </tr>\n",
       "    <tr>\n",
       "      <th>11</th>\n",
       "      <td>PHILIPS 7600 Series 146 cm (58 inch) Ultra HD ...</td>\n",
       "      <td>₹43,999</td>\n",
       "    </tr>\n",
       "    <tr>\n",
       "      <th>12</th>\n",
       "      <td>Vu Premium 164 cm (65 inch) Ultra HD (4K) LED ...</td>\n",
       "      <td>₹57,999</td>\n",
       "    </tr>\n",
       "    <tr>\n",
       "      <th>13</th>\n",
       "      <td>SAMSUNG 163 cm (65 inch) Ultra HD (4K) LED Sma...</td>\n",
       "      <td>₹81,999</td>\n",
       "    </tr>\n",
       "    <tr>\n",
       "      <th>14</th>\n",
       "      <td>LG CX 164 cm (65 inch) OLED Ultra HD (4K) Smar...</td>\n",
       "      <td>₹1,84,550</td>\n",
       "    </tr>\n",
       "    <tr>\n",
       "      <th>15</th>\n",
       "      <td>MarQ by Flipkart 165 cm (65) Ultra HD (4K) LED...</td>\n",
       "      <td>₹64,999</td>\n",
       "    </tr>\n",
       "    <tr>\n",
       "      <th>16</th>\n",
       "      <td>SAMSUNG Crystal 4K Pro 163 cm (65 inch) Ultra ...</td>\n",
       "      <td>₹87,990</td>\n",
       "    </tr>\n",
       "    <tr>\n",
       "      <th>17</th>\n",
       "      <td>LG Nanocell 189 cm (75 inch) Ultra HD (4K) LED...</td>\n",
       "      <td>₹4,99,990</td>\n",
       "    </tr>\n",
       "    <tr>\n",
       "      <th>18</th>\n",
       "      <td>TCL P615 164 cm (65 inch) Ultra HD (4K) LED Sm...</td>\n",
       "      <td>₹64,990</td>\n",
       "    </tr>\n",
       "    <tr>\n",
       "      <th>19</th>\n",
       "      <td>SONY Bravia X8500F 189.3 cm (75 inch) Ultra HD...</td>\n",
       "      <td>₹2,59,999</td>\n",
       "    </tr>\n",
       "    <tr>\n",
       "      <th>20</th>\n",
       "      <td>LG 164 cm (65 inch) Ultra HD (4K) LED Smart TV</td>\n",
       "      <td>₹1,74,999</td>\n",
       "    </tr>\n",
       "    <tr>\n",
       "      <th>21</th>\n",
       "      <td>SAMSUNG Series 8 189 cm (75 inch) Ultra HD (4K...</td>\n",
       "      <td>₹5,99,900</td>\n",
       "    </tr>\n",
       "    <tr>\n",
       "      <th>22</th>\n",
       "      <td>SAMSUNG Series 7 189 cm (75 inch) Ultra HD (4K...</td>\n",
       "      <td>₹2,39,999</td>\n",
       "    </tr>\n",
       "    <tr>\n",
       "      <th>23</th>\n",
       "      <td>MarQ by Flipkart Dolby 65 inch(165 cm) Ultra H...</td>\n",
       "      <td>₹64,999</td>\n",
       "    </tr>\n",
       "  </tbody>\n",
       "</table>\n",
       "</div>"
      ],
      "text/plain": [
       "                                         product_name       cost\n",
       "0   OnePlus U1S 164 cm (65 inch) Ultra HD (4K) LED...    ₹62,490\n",
       "1   iFFALCON 164 cm (65 inch) Ultra HD (4K) LED Sm...    ₹49,990\n",
       "2   NOKIA 165 cm (65 inch) Ultra HD 4K LED Smart A...    ₹56,999\n",
       "3   MOTOROLA Revou 164 cm (65 inch) Ultra HD (4K) ...    ₹52,999\n",
       "4   Thomson OATHPRO Series 164 cm (65 inch) Ultra ...    ₹52,999\n",
       "5   SAMSUNG Crystal 4K 163 cm (65 inch) Ultra HD (...    ₹83,990\n",
       "6   PHILIPS 6600 Series 146 cm (58 inch) Ultra HD ...    ₹41,999\n",
       "7   KODAK CA Series 164 cm (65 inch) Ultra HD (4K)...    ₹54,999\n",
       "8   acer XL Series 177.8 cm (70 inch) Ultra HD (4K...    ₹69,999\n",
       "9   Blaupunkt Cyber Sound 164 cm (65 inch) Ultra H...    ₹54,999\n",
       "10  Vu Cinema TV Action Series 164 cm (65 inch) Ul...    ₹59,999\n",
       "11  PHILIPS 7600 Series 146 cm (58 inch) Ultra HD ...    ₹43,999\n",
       "12  Vu Premium 164 cm (65 inch) Ultra HD (4K) LED ...    ₹57,999\n",
       "13  SAMSUNG 163 cm (65 inch) Ultra HD (4K) LED Sma...    ₹81,999\n",
       "14  LG CX 164 cm (65 inch) OLED Ultra HD (4K) Smar...  ₹1,84,550\n",
       "15  MarQ by Flipkart 165 cm (65) Ultra HD (4K) LED...    ₹64,999\n",
       "16  SAMSUNG Crystal 4K Pro 163 cm (65 inch) Ultra ...    ₹87,990\n",
       "17  LG Nanocell 189 cm (75 inch) Ultra HD (4K) LED...  ₹4,99,990\n",
       "18  TCL P615 164 cm (65 inch) Ultra HD (4K) LED Sm...    ₹64,990\n",
       "19  SONY Bravia X8500F 189.3 cm (75 inch) Ultra HD...  ₹2,59,999\n",
       "20     LG 164 cm (65 inch) Ultra HD (4K) LED Smart TV  ₹1,74,999\n",
       "21  SAMSUNG Series 8 189 cm (75 inch) Ultra HD (4K...  ₹5,99,900\n",
       "22  SAMSUNG Series 7 189 cm (75 inch) Ultra HD (4K...  ₹2,39,999\n",
       "23  MarQ by Flipkart Dolby 65 inch(165 cm) Ultra H...    ₹64,999"
      ]
     },
     "execution_count": 22,
     "metadata": {},
     "output_type": "execute_result"
    }
   ],
   "source": [
    "product"
   ]
  },
  {
   "cell_type": "code",
   "execution_count": 34,
   "id": "157b302c",
   "metadata": {},
   "outputs": [],
   "source": [
    "product.to_csv(\"product.csv\")"
   ]
  },
  {
   "cell_type": "code",
   "execution_count": null,
   "id": "60edc4e0",
   "metadata": {},
   "outputs": [],
   "source": []
  }
 ],
 "metadata": {
  "kernelspec": {
   "display_name": "Python 3 (ipykernel)",
   "language": "python",
   "name": "python3"
  },
  "language_info": {
   "codemirror_mode": {
    "name": "ipython",
    "version": 3
   },
   "file_extension": ".py",
   "mimetype": "text/x-python",
   "name": "python",
   "nbconvert_exporter": "python",
   "pygments_lexer": "ipython3",
   "version": "3.9.12"
  }
 },
 "nbformat": 4,
 "nbformat_minor": 5
}
